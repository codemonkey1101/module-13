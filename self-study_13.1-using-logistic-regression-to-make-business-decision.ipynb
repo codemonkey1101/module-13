{
 "cells": [
  {
   "cell_type": "markdown",
   "metadata": {},
   "source": [
    "Anonymous Customer ID\n",
    "Call Failures: number of call failures\n",
    "Complains: binary (0: No complaint, 1: complaint)\n",
    "Subscription Length: total months of subscription\n",
    "Charge Amount: Ordinal attribute (0: lowest amount, 9: highest amount)\n",
    "Seconds of Use: total seconds of calls\n",
    "Frequency of use: total number of calls\n",
    "Frequency of SMS: total number of text messages\n",
    "Distinct Called Numbers: total number of distinct phone calls \n",
    "Age Group: ordinal attribute (1: younger age, 5: older age)\n",
    "Tariff Plan: binary (1: Pay as you go, 2: contractual)\n",
    "Status: binary (1: active, 2: non-active)\n",
    "Churn: binary (1: churn, 0: non-churn) - Class label\n",
    "Customer Value: The calculated value of customer"
   ]
  },
  {
   "cell_type": "code",
   "execution_count": null,
   "metadata": {},
   "outputs": [],
   "source": [
    "import pandas as pd\n",
    "import numpy as np\n",
    "import matplotlib.pyplot as plt\n",
    "\n",
    "from sklearn.linear_model import LinearRegression\n",
    "\n",
    "import seaborn as sns"
   ]
  },
  {
   "cell_type": "code",
   "execution_count": null,
   "metadata": {},
   "outputs": [],
   "source": []
  }
 ],
 "metadata": {
  "language_info": {
   "name": "python"
  }
 },
 "nbformat": 4,
 "nbformat_minor": 2
}
